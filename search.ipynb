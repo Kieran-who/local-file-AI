{
 "cells": [
  {
   "cell_type": "markdown",
   "metadata": {},
   "source": [
    "# Search for documents, segments and folders\n"
   ]
  },
  {
   "cell_type": "markdown",
   "metadata": {},
   "source": [
    "## Folder Search\n"
   ]
  },
  {
   "cell_type": "code",
   "execution_count": null,
   "metadata": {},
   "outputs": [],
   "source": [
    "from db.folders import search_folders\n",
    "from IPython.display import display\n",
    "\n",
    "search_query = input('Search for folders ... ')\n",
    "\n",
    "data = await search_folders(search_query)\n",
    "\n",
    "display(data[\"notebook\"])"
   ]
  },
  {
   "cell_type": "markdown",
   "metadata": {},
   "source": [
    "## Document Search\n"
   ]
  },
  {
   "cell_type": "code",
   "execution_count": null,
   "metadata": {},
   "outputs": [],
   "source": [
    "from db.docs import search_docs\n",
    "from IPython.display import display\n",
    "\n",
    "search_query_docs = input('Search for documents ... ')\n",
    "\n",
    "doc_data = await search_docs(search_query_docs)\n",
    "\n",
    "display(doc_data[\"notebook\"])"
   ]
  },
  {
   "cell_type": "markdown",
   "metadata": {},
   "source": [
    "## Segment Searchs\n"
   ]
  },
  {
   "cell_type": "markdown",
   "metadata": {},
   "source": [
    "### Plain search that returns segments\n"
   ]
  },
  {
   "cell_type": "code",
   "execution_count": null,
   "metadata": {},
   "outputs": [],
   "source": [
    "from db.segment import search_segs\n",
    "from IPython.display import display\n",
    "\n",
    "search_query_segs = input('Search for segments ... ')\n",
    "\n",
    "seg_data = await search_segs(search_query_segs)\n",
    "\n",
    "print(f'Search: {search_query_segs}')\n",
    "display(seg_data[\"notebook\"])"
   ]
  },
  {
   "cell_type": "markdown",
   "metadata": {},
   "source": [
    "### Search that returns a text response to your query based on the returned documents\n"
   ]
  },
  {
   "cell_type": "markdown",
   "metadata": {},
   "source": [
    "Todo\n"
   ]
  }
 ],
 "metadata": {
  "kernelspec": {
   "display_name": "Python 3",
   "language": "python",
   "name": "python3"
  },
  "language_info": {
   "codemirror_mode": {
    "name": "ipython",
    "version": 3
   },
   "file_extension": ".py",
   "mimetype": "text/x-python",
   "name": "python",
   "nbconvert_exporter": "python",
   "pygments_lexer": "ipython3",
   "version": "3.9.6"
  }
 },
 "nbformat": 4,
 "nbformat_minor": 2
}
