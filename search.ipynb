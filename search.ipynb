{
 "cells": [
  {
   "cell_type": "markdown",
   "metadata": {},
   "source": [
    "# Search for documents, segments and folders\n"
   ]
  },
  {
   "cell_type": "markdown",
   "metadata": {},
   "source": [
    "## Folder Search\n"
   ]
  },
  {
   "cell_type": "code",
   "execution_count": null,
   "metadata": {},
   "outputs": [],
   "source": [
    "from db.folders import search_folders\n",
    "from IPython.display import display\n",
    "\n",
    "search_query = input('Search for folders ... ')\n",
    "\n",
    "data = await search_folders(search_query)\n",
    "\n",
    "display(data[\"notebook\"])"
   ]
  },
  {
   "cell_type": "markdown",
   "metadata": {},
   "source": [
    "## Document Search\n"
   ]
  },
  {
   "cell_type": "code",
   "execution_count": null,
   "metadata": {},
   "outputs": [],
   "source": [
    "from db.docs import search_docs\n",
    "from IPython.display import display\n",
    "\n",
    "search_query = input('Search for documents ... ')\n",
    "\n",
    "data = await search_docs(search_query)\n",
    "\n",
    "display(data[\"notebook\"])"
   ]
  },
  {
   "cell_type": "markdown",
   "metadata": {},
   "source": [
    "## Segment Search\n"
   ]
  },
  {
   "cell_type": "code",
   "execution_count": null,
   "metadata": {},
   "outputs": [],
   "source": [
    "from db.segment import search_segs\n",
    "from IPython.display import display\n",
    "\n",
    "search_query = input('Search for documents ... ')\n",
    "\n",
    "data = await search_segs(search_query)\n",
    "\n",
    "display(data[\"notebook\"])"
   ]
  }
 ],
 "metadata": {
  "kernelspec": {
   "display_name": "Python 3",
   "language": "python",
   "name": "python3"
  },
  "language_info": {
   "codemirror_mode": {
    "name": "ipython",
    "version": 3
   },
   "file_extension": ".py",
   "mimetype": "text/x-python",
   "name": "python",
   "nbconvert_exporter": "python",
   "pygments_lexer": "ipython3",
   "version": "3.10.10"
  }
 },
 "nbformat": 4,
 "nbformat_minor": 2
}
