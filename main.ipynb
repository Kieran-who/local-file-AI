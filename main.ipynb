{
 "cells": [
  {
   "cell_type": "markdown",
   "metadata": {},
   "source": [
    "## Page to start the file indexing and setup project\n",
    "\n",
    "1. Run cell one to install dependancies\n",
    "2. Run cell two to start the indexing of files. Make sure you have set the\n",
    "   correct filepath in the config.py file\n",
    "\n",
    "### Re run cell two to reindex files to update. This will not do a complex index, just index new files or changed files (so should be much fast)\n"
   ]
  },
  {
   "cell_type": "code",
   "execution_count": null,
   "metadata": {},
   "outputs": [],
   "source": [
    "%pip install -r requirements.txt"
   ]
  },
  {
   "cell_type": "code",
   "execution_count": null,
   "metadata": {},
   "outputs": [],
   "source": [
    "from processors.orchestrator import count_items, process_directory\n",
    "from db.backup import create_backup\n",
    "from tqdm.notebook import tqdm\n",
    "from config import INDEX_PATH\n",
    "from db.db_instance import DBClient\n",
    "\n",
    "client = await DBClient()\n",
    "\n",
    "total_items = count_items(INDEX_PATH)\n",
    "pbar = tqdm(total=total_items)\n",
    "await process_directory(INDEX_PATH, pbar)\n",
    "pbar.close()\n",
    "\n",
    "await create_backup(client, INDEX_PATH)"
   ]
  }
 ],
 "metadata": {
  "kernelspec": {
   "display_name": "Python 3",
   "language": "python",
   "name": "python3"
  },
  "language_info": {
   "codemirror_mode": {
    "name": "ipython",
    "version": 3
   },
   "file_extension": ".py",
   "mimetype": "text/x-python",
   "name": "python",
   "nbconvert_exporter": "python",
   "pygments_lexer": "ipython3",
   "version": "3.9.6"
  }
 },
 "nbformat": 4,
 "nbformat_minor": 2
}
