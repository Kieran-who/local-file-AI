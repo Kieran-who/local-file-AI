{
 "cells": [
  {
   "cell_type": "markdown",
   "metadata": {},
   "source": [
    "## Page to start the file indexing and setup project\n",
    "\n",
    "1. Run cell one to install dependancies\n",
    "2. Run cell two to start the indexing of files. Make sure you have set the\n",
    "   correct filepath in the config.py file\n",
    "\n",
    "### Re run cell two to reindex files to update. This will not do a complex index, just index new files or changed files (so should be much fast)\n"
   ]
  },
  {
   "cell_type": "code",
   "execution_count": null,
   "metadata": {},
   "outputs": [],
   "source": [
    "%pip install -r requirements.txt"
   ]
  },
  {
   "cell_type": "code",
   "execution_count": 1,
   "metadata": {},
   "outputs": [
    {
     "name": "stdout",
     "output_type": "stream",
     "text": [
      "Started /Users/kieran/.cache/weaviate-embedded: process ID 16321\n"
     ]
    },
    {
     "name": "stderr",
     "output_type": "stream",
     "text": [
      "time=\"2023-10-20T10:04:57+11:00\" level=info msg=\"the default vectorizer modules is set to \\\"none\\\", as a result all new schema classes without an explicit vectorizer setting, will use this vectorizer\" action=startup default_vectorizer_module=none\n",
      "time=\"2023-10-20T10:04:57+11:00\" level=info msg=\"auto schema enabled setting is set to \\\"true\\\"\" action=startup auto_schema_enabled=true\n",
      "time=\"2023-10-20T10:04:57+11:00\" level=info msg=\"prefilled vector cache\" action=hnsw_vector_cache_prefill count=5000 index_id=document_0PZoPalM2MIQ limit=1000000000000 took=\"392.334µs\"\n",
      "time=\"2023-10-20T10:04:57+11:00\" level=info msg=\"prefilled vector cache\" action=hnsw_vector_cache_prefill count=3000 index_id=folder_UWUq9FY5tIWl limit=1000000000000 took=\"141.708µs\"\n",
      "time=\"2023-10-20T10:04:57+11:00\" level=info msg=\"grpc server listening at [::]:50051\" action=grpc_startup\n",
      "time=\"2023-10-20T10:04:57+11:00\" level=info msg=\"prefilled vector cache\" action=hnsw_vector_cache_prefill count=7000 index_id=segment_4TicwTnAtTQs limit=1000000000000 took=12.313667ms\n",
      "time=\"2023-10-20T10:04:57+11:00\" level=info msg=\"Serving weaviate at http://127.0.0.1:6666\" action=restapi_management\n"
     ]
    },
    {
     "data": {
      "application/vnd.jupyter.widget-view+json": {
       "model_id": "6d466421a76442d6a20a51f30f2eadd2",
       "version_major": 2,
       "version_minor": 0
      },
      "text/plain": [
       "  0%|          | 0/35 [00:00<?, ?it/s]"
      ]
     },
     "metadata": {},
     "output_type": "display_data"
    },
    {
     "name": "stdout",
     "output_type": "stream",
     "text": [
      "No accepted filetypes in directory: to_index/test/Telecommunications\n"
     ]
    },
    {
     "name": "stderr",
     "output_type": "stream",
     "text": [
      "time=\"2023-10-20T10:05:04+11:00\" level=info action=try_backup backend=azure backup_id=2023-10-20-d0b490eb-06b3-4213-ac09-86746d03f5ba took=263.953083ms\n",
      "time=\"2023-10-20T10:05:04+11:00\" level=info msg=\"start uploading files\" class=Document\n",
      "time=\"2023-10-20T10:05:04+11:00\" level=info action=backup_status backend=azure backup_id=2023-10-20-d0b490eb-06b3-4213-ac09-86746d03f5ba took=\"8.5µs\"\n",
      "time=\"2023-10-20T10:05:05+11:00\" level=info action=backup_status backend=azure backup_id=2023-10-20-d0b490eb-06b3-4213-ac09-86746d03f5ba took=\"11.625µs\"\n",
      "time=\"2023-10-20T10:05:06+11:00\" level=info action=backup_status backend=azure backup_id=2023-10-20-d0b490eb-06b3-4213-ac09-86746d03f5ba took=\"9.292µs\"\n",
      "time=\"2023-10-20T10:05:06+11:00\" level=info msg=\"finish uploading files\" class=Document\n",
      "time=\"2023-10-20T10:05:06+11:00\" level=info msg=\"start uploading files\" class=Folder\n",
      "time=\"2023-10-20T10:05:06+11:00\" level=info msg=\"finish uploading files\" class=Folder\n",
      "time=\"2023-10-20T10:05:06+11:00\" level=info msg=\"start uploading files\" class=Segment\n",
      "time=\"2023-10-20T10:05:07+11:00\" level=info action=backup_status backend=azure backup_id=2023-10-20-d0b490eb-06b3-4213-ac09-86746d03f5ba took=\"5.417µs\"\n",
      "time=\"2023-10-20T10:05:08+11:00\" level=info action=backup_status backend=azure backup_id=2023-10-20-d0b490eb-06b3-4213-ac09-86746d03f5ba took=\"8.25µs\"\n",
      "time=\"2023-10-20T10:05:09+11:00\" level=info action=backup_status backend=azure backup_id=2023-10-20-d0b490eb-06b3-4213-ac09-86746d03f5ba took=\"4.292µs\"\n",
      "time=\"2023-10-20T10:05:09+11:00\" level=info msg=\"successfully combined previously condensed commit log files\" action=hnsw_commit_logger_combine_condensed_logs id=folder_UWUq9FY5tIWl input_first=./db/data/folder_UWUq9FY5tIWl.hnsw.commitlog.d/1697756052.condensed input_second=./db/data/folder_UWUq9FY5tIWl.hnsw.commitlog.d/1697756615.condensed output=./db/data/folder_UWUq9FY5tIWl.hnsw.commitlog.d/1697756052\n",
      "time=\"2023-10-20T10:05:09+11:00\" level=info msg=\"successfully combined previously condensed commit log files\" action=hnsw_commit_logger_combine_condensed_logs id=document_0PZoPalM2MIQ input_first=./db/data/document_0PZoPalM2MIQ.hnsw.commitlog.d/1697756052.condensed input_second=./db/data/document_0PZoPalM2MIQ.hnsw.commitlog.d/1697756615.condensed output=./db/data/document_0PZoPalM2MIQ.hnsw.commitlog.d/1697756052\n",
      "time=\"2023-10-20T10:05:10+11:00\" level=info action=backup_status backend=azure backup_id=2023-10-20-d0b490eb-06b3-4213-ac09-86746d03f5ba took=\"8.125µs\"\n",
      "time=\"2023-10-20T10:05:11+11:00\" level=info action=backup_status backend=azure backup_id=2023-10-20-d0b490eb-06b3-4213-ac09-86746d03f5ba took=\"5.291µs\"\n",
      "time=\"2023-10-20T10:05:12+11:00\" level=info action=backup_status backend=azure backup_id=2023-10-20-d0b490eb-06b3-4213-ac09-86746d03f5ba took=\"4.084µs\"\n",
      "time=\"2023-10-20T10:05:13+11:00\" level=info action=backup_status backend=azure backup_id=2023-10-20-d0b490eb-06b3-4213-ac09-86746d03f5ba took=\"4µs\"\n",
      "time=\"2023-10-20T10:05:14+11:00\" level=info action=backup_status backend=azure backup_id=2023-10-20-d0b490eb-06b3-4213-ac09-86746d03f5ba took=\"4.5µs\"\n",
      "time=\"2023-10-20T10:05:15+11:00\" level=info action=backup_status backend=azure backup_id=2023-10-20-d0b490eb-06b3-4213-ac09-86746d03f5ba took=\"7.125µs\"\n",
      "time=\"2023-10-20T10:05:16+11:00\" level=info action=backup_status backend=azure backup_id=2023-10-20-d0b490eb-06b3-4213-ac09-86746d03f5ba took=\"4.542µs\"\n",
      "time=\"2023-10-20T10:05:17+11:00\" level=info action=backup_status backend=azure backup_id=2023-10-20-d0b490eb-06b3-4213-ac09-86746d03f5ba took=\"4.5µs\"\n",
      "time=\"2023-10-20T10:05:18+11:00\" level=info action=backup_status backend=azure backup_id=2023-10-20-d0b490eb-06b3-4213-ac09-86746d03f5ba took=\"4.958µs\"\n",
      "time=\"2023-10-20T10:05:19+11:00\" level=info action=backup_status backend=azure backup_id=2023-10-20-d0b490eb-06b3-4213-ac09-86746d03f5ba took=\"8.875µs\"\n",
      "time=\"2023-10-20T10:05:20+11:00\" level=info action=backup_status backend=azure backup_id=2023-10-20-d0b490eb-06b3-4213-ac09-86746d03f5ba took=\"9.166µs\"\n",
      "time=\"2023-10-20T10:05:21+11:00\" level=info action=backup_status backend=azure backup_id=2023-10-20-d0b490eb-06b3-4213-ac09-86746d03f5ba took=\"4.291µs\"\n",
      "time=\"2023-10-20T10:05:22+11:00\" level=info action=backup_status backend=azure backup_id=2023-10-20-d0b490eb-06b3-4213-ac09-86746d03f5ba took=\"6.875µs\"\n",
      "time=\"2023-10-20T10:05:23+11:00\" level=info action=backup_status backend=azure backup_id=2023-10-20-d0b490eb-06b3-4213-ac09-86746d03f5ba took=\"10.917µs\"\n",
      "time=\"2023-10-20T10:05:24+11:00\" level=info action=backup_status backend=azure backup_id=2023-10-20-d0b490eb-06b3-4213-ac09-86746d03f5ba took=\"11.75µs\"\n",
      "time=\"2023-10-20T10:05:25+11:00\" level=info action=backup_status backend=azure backup_id=2023-10-20-d0b490eb-06b3-4213-ac09-86746d03f5ba took=\"4.417µs\"\n",
      "time=\"2023-10-20T10:05:26+11:00\" level=info action=backup_status backend=azure backup_id=2023-10-20-d0b490eb-06b3-4213-ac09-86746d03f5ba took=\"33.792µs\"\n",
      "time=\"2023-10-20T10:05:26+11:00\" level=info msg=\"finish uploading files\" class=Segment\n",
      "time=\"2023-10-20T10:05:26+11:00\" level=info msg=\"start uploading meta data\"\n",
      "time=\"2023-10-20T10:05:26+11:00\" level=info msg=\"finish uploading meta data\"\n",
      "time=\"2023-10-20T10:05:27+11:00\" level=info msg=\"successfully combined previously condensed commit log files\" action=hnsw_commit_logger_combine_condensed_logs id=segment_4TicwTnAtTQs input_first=./db/data/segment_4TicwTnAtTQs.hnsw.commitlog.d/1697756052.condensed input_second=./db/data/segment_4TicwTnAtTQs.hnsw.commitlog.d/1697756615.condensed output=./db/data/segment_4TicwTnAtTQs.hnsw.commitlog.d/1697756052\n",
      "time=\"2023-10-20T10:05:27+11:00\" level=info action=backup_status backend=azure backup_id=2023-10-20-d0b490eb-06b3-4213-ac09-86746d03f5ba took=\"8.625µs\"\n",
      "time=\"2023-10-20T10:05:28+11:00\" level=info action=backup_status backend=azure backup_id=2023-10-20-d0b490eb-06b3-4213-ac09-86746d03f5ba took=\"7.125µs\"\n",
      "time=\"2023-10-20T10:05:29+11:00\" level=info action=backup_status backend=azure backup_id=2023-10-20-d0b490eb-06b3-4213-ac09-86746d03f5ba took=\"8.25µs\"\n",
      "time=\"2023-10-20T10:05:30+11:00\" level=info action=backup_status backend=azure backup_id=2023-10-20-d0b490eb-06b3-4213-ac09-86746d03f5ba took=\"8µs\"\n",
      "time=\"2023-10-20T10:05:31+11:00\" level=info action=backup_status backend=azure backup_id=2023-10-20-d0b490eb-06b3-4213-ac09-86746d03f5ba took=\"7.125µs\"\n",
      "time=\"2023-10-20T10:05:32+11:00\" level=info action=backup_status backend=azure backup_id=2023-10-20-d0b490eb-06b3-4213-ac09-86746d03f5ba took=\"6.75µs\"\n",
      "time=\"2023-10-20T10:05:33+11:00\" level=info action=backup_status backend=azure backup_id=2023-10-20-d0b490eb-06b3-4213-ac09-86746d03f5ba took=\"8.417µs\"\n",
      "time=\"2023-10-20T10:05:34+11:00\" level=info action=backup_status backend=azure backup_id=2023-10-20-d0b490eb-06b3-4213-ac09-86746d03f5ba took=\"8.167µs\"\n",
      "time=\"2023-10-20T10:05:35+11:00\" level=info action=backup_status backend=azure backup_id=2023-10-20-d0b490eb-06b3-4213-ac09-86746d03f5ba took=\"8.084µs\"\n",
      "time=\"2023-10-20T10:05:36+11:00\" level=info action=backup_status backend=azure backup_id=2023-10-20-d0b490eb-06b3-4213-ac09-86746d03f5ba took=15.043167ms\n"
     ]
    },
    {
     "data": {
      "text/plain": [
       "{'backend': 'azure',\n",
       " 'classes': ['Document', 'Folder', 'Segment'],\n",
       " 'id': '2023-10-20-d0b490eb-06b3-4213-ac09-86746d03f5ba',\n",
       " 'path': 'weaviate-backup/2023-10-20-d0b490eb-06b3-4213-ac09-86746d03f5ba',\n",
       " 'status': 'SUCCESS'}"
      ]
     },
     "execution_count": 1,
     "metadata": {},
     "output_type": "execute_result"
    }
   ],
   "source": [
    "from processors.orchestrator import count_items, process_directory\n",
    "from db.backup import create_backup\n",
    "from tqdm.notebook import tqdm\n",
    "from config import INDEX_PATH\n",
    "from db.db_instance import DBClient\n",
    "\n",
    "client = await DBClient()\n",
    "\n",
    "total_items = count_items(INDEX_PATH)\n",
    "pbar = tqdm(total=total_items)\n",
    "await process_directory(INDEX_PATH, pbar)\n",
    "pbar.close()\n",
    "\n",
    "await create_backup(client)"
   ]
  }
 ],
 "metadata": {
  "kernelspec": {
   "display_name": "Python 3",
   "language": "python",
   "name": "python3"
  },
  "language_info": {
   "codemirror_mode": {
    "name": "ipython",
    "version": 3
   },
   "file_extension": ".py",
   "mimetype": "text/x-python",
   "name": "python",
   "nbconvert_exporter": "python",
   "pygments_lexer": "ipython3",
   "version": "3.10.10"
  }
 },
 "nbformat": 4,
 "nbformat_minor": 2
}
